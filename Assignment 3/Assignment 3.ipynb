{
 "cells": [
  {
   "cell_type": "code",
   "execution_count": 1,
   "id": "5769522b",
   "metadata": {},
   "outputs": [
    {
     "name": "stdout",
     "output_type": "stream",
     "text": [
      "Twinkle, twinkle, little star,\n",
      "\tHow I wonder what you are!\n",
      "\t\tUp above the world so high,\n",
      "\t\tLike a diamond in the sky.\n",
      "Twinkle, twinkle, little star,\n",
      "\tHow I wonder what you are!\n"
     ]
    }
   ],
   "source": [
    "#1-Write a Python program to print the following string in a specific format (see the output).\n",
    "print(\"Twinkle, twinkle, little star,\\n\\tHow I wonder what you are!\\n\\t\\tUp above the world so high,\\n\\t\\tLike a diamond in the sky.\\nTwinkle, twinkle, little star,\\n\\tHow I wonder what you are!\")\n",
    "\n",
    "\n"
   ]
  },
  {
   "cell_type": "code",
   "execution_count": 2,
   "id": "3f13362c",
   "metadata": {},
   "outputs": [
    {
     "name": "stdout",
     "output_type": "stream",
     "text": [
      "Python version\n",
      "3.8.8 (default, Apr 13 2021, 15:08:03) [MSC v.1916 64 bit (AMD64)]\n",
      "Version info.\n",
      "sys.version_info(major=3, minor=8, micro=8, releaselevel='final', serial=0)\n"
     ]
    }
   ],
   "source": [
    "#2- Write a Python program to get the Python version you are using\n",
    "import sys\n",
    "print(\"Python version\")\n",
    "print (sys.version)\n",
    "print(\"Version info.\")\n",
    "print (sys.version_info)"
   ]
  },
  {
   "cell_type": "code",
   "execution_count": 3,
   "id": "8f734496",
   "metadata": {},
   "outputs": [
    {
     "name": "stdout",
     "output_type": "stream",
     "text": [
      "Current date and time : \n",
      "2021-10-24 15:40:00\n"
     ]
    }
   ],
   "source": [
    "#3. Write a Python program to display the current date and time.\n",
    "import datetime\n",
    "now = datetime.datetime.now()\n",
    "print (\"Current date and time : \")\n",
    "print (now.strftime(\"%Y-%m-%d %H:%M:%S\"))"
   ]
  },
  {
   "cell_type": "code",
   "execution_count": 7,
   "id": "a2ff1248",
   "metadata": {},
   "outputs": [
    {
     "name": "stdout",
     "output_type": "stream",
     "text": [
      "Input the radius of the circle : 6.5\n",
      "The area of the circle with radius 6.5 is: 132.73228961416876\n"
     ]
    }
   ],
   "source": [
    "#4. Write a Python program which accepts the radius of a circle from the user and compute the area.\n",
    "from math import pi\n",
    "r = float(input (\"Input the radius of the circle : \"))\n",
    "print (\"The area of the circle with radius \" + str(r) + \" is: \" + str(pi * r**2))\n"
   ]
  },
  {
   "cell_type": "code",
   "execution_count": 8,
   "id": "99669e24",
   "metadata": {},
   "outputs": [
    {
     "name": "stdout",
     "output_type": "stream",
     "text": [
      "Input your First Name : Ghulam\n",
      "Input your Last Name : Nabi\n",
      "Hello  Nabi Ghulam\n"
     ]
    }
   ],
   "source": [
    "#5. Write a Python program which accepts the user's first and last name and print them in reverse order with a space between them.\n",
    "fname = input(\"Input your First Name : \")\n",
    "lname = input(\"Input your Last Name : \")\n",
    "print (\"Hello  \" + lname + \" \" + fname)"
   ]
  },
  {
   "cell_type": "code",
   "execution_count": 9,
   "id": "5c8fdbb3",
   "metadata": {},
   "outputs": [
    {
     "name": "stdout",
     "output_type": "stream",
     "text": [
      "Enter x=5\n",
      "Enter y=10\n",
      "15\n"
     ]
    }
   ],
   "source": [
    "#6-Write a python program which takes two inputs from user and print them addition\n",
    "x=int(input(\"Enter x=\"))\n",
    "y=int(input(\"Enter y=\"))\n",
    "print(x+y)"
   ]
  },
  {
   "cell_type": "code",
   "execution_count": 10,
   "id": "a6fabeeb",
   "metadata": {},
   "outputs": [
    {
     "name": "stdout",
     "output_type": "stream",
     "text": [
      "Enter marks of the first subject: 95\n",
      "Enter marks of the second subject: 56\n",
      "Enter marks of the third subject: 73\n",
      "Enter marks of the fourth subject: 30\n",
      "Enter marks of the fifth subject: 50\n",
      "Grade: F\n"
     ]
    }
   ],
   "source": [
    "#Write a program which takes 5 inputs from user for different subject’s marks, total it and generate mark sheet using grades ?\n",
    "sub1=int(input(\"Enter marks of the first subject: \"))\n",
    "sub2=int(input(\"Enter marks of the second subject: \"))\n",
    "sub3=int(input(\"Enter marks of the third subject: \"))\n",
    "sub4=int(input(\"Enter marks of the fourth subject: \"))\n",
    "sub5=int(input(\"Enter marks of the fifth subject: \"))\n",
    "total=sub1+sub2+sub3+sub4+sub4\n",
    "P=(total/500)*100\n",
    "if(P>=90):\n",
    "    print(\"Grade: A\")\n",
    "elif(P>=80 and P<90):\n",
    "    print(\"Grade: B\")\n",
    "elif(P>=70 and P<80):\n",
    "    print(\"Grade: C\")\n",
    "elif(P>=60 and P<70):\n",
    "    print(\"Grade: D\")\n",
    "else:\n",
    "    print(\"Grade: F\")"
   ]
  },
  {
   "cell_type": "code",
   "execution_count": 11,
   "id": "d449d755",
   "metadata": {},
   "outputs": [
    {
     "name": "stdout",
     "output_type": "stream",
     "text": [
      "Enter x=6\n",
      "The number is Even\n"
     ]
    }
   ],
   "source": [
    "#8-Write a program which take input from user and identify that the given number is evenor odd?\n",
    "x=int(input(\"Enter x=\"))\n",
    "if x%2==0:\n",
    "    print(\"The number is Even\")\n",
    "elif x%2!=0:\n",
    "    print(\"The number is Odd\")\n",
    "else:\n",
    "    print(\"Cannot decide\")"
   ]
  },
  {
   "cell_type": "code",
   "execution_count": 12,
   "id": "3b6093cf",
   "metadata": {},
   "outputs": [
    {
     "name": "stdout",
     "output_type": "stream",
     "text": [
      "5\n"
     ]
    }
   ],
   "source": [
    "#9-Write a program which print the length of the list?\n",
    "my_list=['Apple','Mango','Banana','Graps','Orange']\n",
    "size=len(my_list)\n",
    "print(size)"
   ]
  },
  {
   "cell_type": "code",
   "execution_count": 13,
   "id": "dbfe84b7",
   "metadata": {},
   "outputs": [
    {
     "name": "stdout",
     "output_type": "stream",
     "text": [
      "37\n"
     ]
    }
   ],
   "source": [
    "#10.Write a Python program to sum all the numeric items in a list?\n",
    "my_num=[5,6,7,8,9,2]\n",
    "x=sum(my_num)\n",
    "print(x)"
   ]
  },
  {
   "cell_type": "code",
   "execution_count": 14,
   "id": "cbb14dda",
   "metadata": {},
   "outputs": [
    {
     "name": "stdout",
     "output_type": "stream",
     "text": [
      "9\n"
     ]
    }
   ],
   "source": [
    "#11.Write a Python program to get the largest number from a numeric list.\n",
    "my_num=[5,6,7,8,9,2]\n",
    "x=max(my_num)\n",
    "print(x)"
   ]
  },
  {
   "cell_type": "code",
   "execution_count": 15,
   "id": "4c3f5181",
   "metadata": {},
   "outputs": [
    {
     "name": "stdout",
     "output_type": "stream",
     "text": [
      "1\n",
      "1\n",
      "2\n",
      "3\n"
     ]
    }
   ],
   "source": [
    "#Take a list, say for example this one:a = [1, 1, 2, 3, 5, 8, 13, 21, 34, 55, 89] Write a program that prints out all the elements of the list that are less than 5.\n",
    "a = [1, 1, 2, 3, 5, 8, 13, 21, 34, 55, 89]\n",
    "for i in a:\n",
    "    if i < 5:\n",
    "        print(i)"
   ]
  },
  {
   "cell_type": "code",
   "execution_count": null,
   "id": "4823a2cc",
   "metadata": {},
   "outputs": [],
   "source": []
  }
 ],
 "metadata": {
  "kernelspec": {
   "display_name": "Python 3",
   "language": "python",
   "name": "python3"
  },
  "language_info": {
   "codemirror_mode": {
    "name": "ipython",
    "version": 3
   },
   "file_extension": ".py",
   "mimetype": "text/x-python",
   "name": "python",
   "nbconvert_exporter": "python",
   "pygments_lexer": "ipython3",
   "version": "3.8.8"
  }
 },
 "nbformat": 4,
 "nbformat_minor": 5
}
