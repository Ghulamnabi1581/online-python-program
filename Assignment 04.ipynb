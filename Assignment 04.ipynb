{
 "cells": [
  {
   "cell_type": "code",
   "execution_count": 1,
   "id": "bd6def03",
   "metadata": {},
   "outputs": [
    {
     "name": "stdout",
     "output_type": "stream",
     "text": [
      "Enter the first number: 8\n",
      "Enter the second number: 9\n",
      "Enter the operator you want to perform\n",
      "Enter any of these operator for operation +, -, *, / ,** -\n",
      "8 - 9 :  -1\n"
     ]
    }
   ],
   "source": [
    "#1. Make a calculator using Python with addition , subtraction ,multiplication ,division and power.\n",
    "num1=int(input(\"Enter the first number: \"))\n",
    "num2=int(input(\"Enter the second number: \"))\n",
    "print(\"Enter the operator you want to perform\");\n",
    "ch=input(\"Enter any of these operator for operation +, -, *, / ,** \")\n",
    "result=0\n",
    "if ch=='+':\n",
    "    result=num1+num2;\n",
    "elif ch=='-':\n",
    "    result=num1-num2;\n",
    "elif ch=='*':\n",
    "    result=num1*num2;\n",
    "elif ch=='/':\n",
    "    result=num1/num2;\n",
    "elif ch=='**':\n",
    "    result=num1**num2;   \n",
    "else:\n",
    "   print(\"char is not supported\");\n",
    "print(num1,ch,num2,\": \",result)\n"
   ]
  },
  {
   "cell_type": "code",
   "execution_count": 3,
   "id": "e639be64",
   "metadata": {},
   "outputs": [
    {
     "name": "stdout",
     "output_type": "stream",
     "text": [
      "4\n"
     ]
    }
   ],
   "source": [
    "#2. Write a program to check if there is any numeric value in list using for loop.\n",
    "list = [\"abc\", \"def\", 4, \"ghi\"] \n",
    "for x in list: \n",
    "    if type(x) == int: \n",
    "        print(x)"
   ]
  },
  {
   "cell_type": "code",
   "execution_count": 4,
   "id": "9987c658",
   "metadata": {},
   "outputs": [
    {
     "name": "stdout",
     "output_type": "stream",
     "text": [
      "{0: 20, 1: 50}\n",
      "{0: 20, 1: 50, 3: 70}\n"
     ]
    }
   ],
   "source": [
    "#3. Write a Python script to add a key to a dictionary.\n",
    "d = {0:20, 1:50}\n",
    "print(d)\n",
    "d.update({3:70})\n",
    "print(d)"
   ]
  },
  {
   "cell_type": "code",
   "execution_count": 5,
   "id": "2a7ef19f",
   "metadata": {},
   "outputs": [
    {
     "name": "stdout",
     "output_type": "stream",
     "text": [
      "181\n"
     ]
    }
   ],
   "source": [
    "#4. Write a Python program to sum all the numeric items in a dictionary.\n",
    "my_dict = {'data1':100,'data2':54,'data3':27}\n",
    "print(sum(my_dict.values()))"
   ]
  },
  {
   "cell_type": "code",
   "execution_count": 6,
   "id": "fe912c56",
   "metadata": {},
   "outputs": [
    {
     "name": "stdout",
     "output_type": "stream",
     "text": [
      "2 3 4 5 "
     ]
    }
   ],
   "source": [
    "#5. Write a program to identify duplicate values from list.\n",
    "l=[1,2,3,4,5,2,3,4,7,9,5]\n",
    "l1=[]\n",
    "for i in l:\n",
    "    if i not in l1:\n",
    "        l1.append(i)\n",
    "    else:\n",
    "        print(i,end=' ')"
   ]
  },
  {
   "cell_type": "code",
   "execution_count": 7,
   "id": "5e1bd2d1",
   "metadata": {},
   "outputs": [
    {
     "name": "stdout",
     "output_type": "stream",
     "text": [
      "Key is present in the dictionary\n",
      "Key is not present in the dictionary\n"
     ]
    }
   ],
   "source": [
    "#6. Write a Python script to check if a given key already exists in a dictionary\n",
    "d = {1: 10, 2: 20, 3: 30, 4: 40, 5: 50, 6: 60}\n",
    "def is_key_present(x):\n",
    "  if x in d:\n",
    "      print('Key is present in the dictionary')\n",
    "  else:\n",
    "      print('Key is not present in the dictionary')\n",
    "is_key_present(5)\n",
    "is_key_present(9)"
   ]
  },
  {
   "cell_type": "code",
   "execution_count": null,
   "id": "25104be1",
   "metadata": {},
   "outputs": [],
   "source": []
  }
 ],
 "metadata": {
  "kernelspec": {
   "display_name": "Python 3",
   "language": "python",
   "name": "python3"
  },
  "language_info": {
   "codemirror_mode": {
    "name": "ipython",
    "version": 3
   },
   "file_extension": ".py",
   "mimetype": "text/x-python",
   "name": "python",
   "nbconvert_exporter": "python",
   "pygments_lexer": "ipython3",
   "version": "3.8.8"
  }
 },
 "nbformat": 4,
 "nbformat_minor": 5
}
